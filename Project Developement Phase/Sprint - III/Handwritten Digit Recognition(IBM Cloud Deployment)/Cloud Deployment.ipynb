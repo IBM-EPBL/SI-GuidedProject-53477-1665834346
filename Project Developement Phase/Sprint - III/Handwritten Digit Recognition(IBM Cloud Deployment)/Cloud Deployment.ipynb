{
  "cells": [
    {
      "cell_type": "markdown",
      "metadata": {},
      "source": [
        "Sprint 3"
      ]
    },
    {
      "cell_type": "markdown",
      "metadata": {},
      "source": [
        "Team id:Team ID\tPNT2022TMID25747"
      ]
    },
    {
      "cell_type": "markdown",
      "metadata": {
        "id": "cTe6UwEGGYlE"
      },
      "source": [
        "Importing the required libraries"
      ]
    },
    {
      "cell_type": "code",
      "execution_count": null,
      "metadata": {
        "colab": {
          "base_uri": "https://localhost:8080/"
        },
        "id": "trVmc-8oGGBk",
        "outputId": "a98e88bb-255f-444c-d307-2858c6046a41"
      },
      "outputs": [],
      "source": [
        "# pip install tensorflow --upgrade  --To install tensorflow"
      ]
    },
    {
      "cell_type": "code",
      "execution_count": 1,
      "metadata": {
        "id": "V4joFdXdHqIu"
      },
      "outputs": [],
      "source": [
        "import numpy as np\n",
        "import tensorflow \n",
        "import keras\n",
        "from keras.datasets import mnist \n",
        "from keras.models import Sequential\n",
        "from keras import layers \n",
        "from keras.layers import Dense, Flatten \n",
        "from keras.layers import Conv2D \n",
        "from keras.utils import np_utils \n",
        "import matplotlib.pyplot as plt  "
      ]
    },
    {
      "cell_type": "markdown",
      "metadata": {
        "id": "VphXf9JYHkCp"
      },
      "source": [
        "LOAD DATA"
      ]
    },
    {
      "cell_type": "code",
      "execution_count": 2,
      "metadata": {
        "colab": {
          "base_uri": "https://localhost:8080/"
        },
        "id": "Nsy_OQRwHw1W",
        "outputId": "fc76cb48-1ba9-4da1-a872-ecf7329ff8f9"
      },
      "outputs": [],
      "source": [
        "(x_train, y_train), (x_test, y_test)=mnist.load_data () "
      ]
    },
    {
      "cell_type": "code",
      "execution_count": null,
      "metadata": {
        "colab": {
          "base_uri": "https://localhost:8080/"
        },
        "id": "mc2GdbiRH2JC",
        "outputId": "b86f96f7-72e5-4d38-ff1a-8e2d4d757358"
      },
      "outputs": [],
      "source": [
        "print (x_train.shape)  \n",
        "print (x_test.shape)"
      ]
    },
    {
      "cell_type": "code",
      "execution_count": null,
      "metadata": {
        "colab": {
          "base_uri": "https://localhost:8080/"
        },
        "id": "_4Fs_dO3H5Pc",
        "outputId": "7c5e9aec-84d9-4f38-ea81-37aff36876e8"
      },
      "outputs": [],
      "source": [
        "x_train[0]"
      ]
    },
    {
      "cell_type": "markdown",
      "metadata": {},
      "source": [
        "Plot The Image:"
      ]
    },
    {
      "cell_type": "code",
      "execution_count": null,
      "metadata": {
        "colab": {
          "base_uri": "https://localhost:8080/",
          "height": 282
        },
        "id": "stLC_5HqH9AT",
        "outputId": "0680d9e0-6ea0-48e8-f693-8d9e57d359c7"
      },
      "outputs": [],
      "source": [
        "plt.imshow(x_train[7000])    "
      ]
    },
    {
      "cell_type": "code",
      "execution_count": null,
      "metadata": {
        "colab": {
          "base_uri": "https://localhost:8080/"
        },
        "id": "Fa56pqp0IAN8",
        "outputId": "b55f006c-e511-44b7-b4c4-d7c7e26f6a96"
      },
      "outputs": [],
      "source": [
        "np.argmax(y_train[7000])"
      ]
    },
    {
      "cell_type": "markdown",
      "metadata": {
        "id": "05hh9zJFIBWb"
      },
      "source": [
        "Reshaping Dataset"
      ]
    },
    {
      "cell_type": "code",
      "execution_count": 7,
      "metadata": {
        "id": "naRX5bLAIGyX"
      },
      "outputs": [],
      "source": [
        "x_train=x_train.reshape (60000, 28, 28, 1).astype('float32')\n",
        "x_test=x_test.reshape (10000, 28, 28, 1).astype ('float32')"
      ]
    },
    {
      "cell_type": "markdown",
      "metadata": {
        "id": "EKW1mOKJIMmB"
      },
      "source": [
        "Applying One Hot Encoding"
      ]
    },
    {
      "cell_type": "code",
      "execution_count": 8,
      "metadata": {
        "id": "8YYjGfrzIMzj"
      },
      "outputs": [],
      "source": [
        "number_of_classes = 10  "
      ]
    },
    {
      "cell_type": "code",
      "execution_count": 9,
      "metadata": {
        "id": "9Sal8CdSIM-w"
      },
      "outputs": [],
      "source": [
        "y_train = np_utils.to_categorical (y_train, number_of_classes) \n",
        "y_test = np_utils.to_categorical (y_test, number_of_classes)"
      ]
    },
    {
      "cell_type": "markdown",
      "metadata": {
        "id": "obrBPGIpIUH0"
      },
      "source": [
        "Add CNN Layers"
      ]
    },
    {
      "cell_type": "code",
      "execution_count": 10,
      "metadata": {
        "id": "yMvltev0IZIy"
      },
      "outputs": [],
      "source": [
        "model=Sequential ()"
      ]
    },
    {
      "cell_type": "code",
      "execution_count": 11,
      "metadata": {
        "id": "Sm0v63rjIcPW"
      },
      "outputs": [],
      "source": [
        "model.add(Conv2D(64, (3, 3), input_shape=(28, 28, 1), activation='relu'))\n",
        "model.add(Conv2D(32, (3, 3), activation = 'relu'))"
      ]
    },
    {
      "cell_type": "code",
      "execution_count": 12,
      "metadata": {
        "id": "1SGhMdeNIZWg"
      },
      "outputs": [],
      "source": [
        "model.add(Flatten())\n",
        "model.add(Dense(number_of_classes,activation = 'softmax'))"
      ]
    },
    {
      "cell_type": "markdown",
      "metadata": {
        "id": "DcglR46eIirs"
      },
      "source": [
        "Compiling the model"
      ]
    },
    {
      "cell_type": "code",
      "execution_count": 13,
      "metadata": {
        "id": "QGDyjBoAIi3N"
      },
      "outputs": [],
      "source": [
        "model.compile(loss= 'categorical_crossentropy', optimizer=\"Adam\", metrics=['accuracy'])"
      ]
    },
    {
      "cell_type": "code",
      "execution_count": 14,
      "metadata": {
        "id": "1OFupCocIokc"
      },
      "outputs": [],
      "source": [
        "x_train = np.asarray(x_train)\n",
        "y_train = np.asarray(y_train)"
      ]
    },
    {
      "cell_type": "markdown",
      "metadata": {
        "id": "s0kL_I31IosL"
      },
      "source": [
        "Train the model"
      ]
    },
    {
      "cell_type": "code",
      "execution_count": 15,
      "metadata": {
        "colab": {
          "base_uri": "https://localhost:8080/"
        },
        "id": "LnOl7oFAItGv",
        "outputId": "80f91e37-71d5-4c5b-fdca-b44a85384564"
      },
      "outputs": [
        {
          "name": "stdout",
          "output_type": "stream",
          "text": [
            "Epoch 1/5\n",
            "1875/1875 [==============================] - 403s 213ms/step - loss: 0.2335 - accuracy: 0.9539 - val_loss: 0.1060 - val_accuracy: 0.9697\n",
            "Epoch 2/5\n",
            "1875/1875 [==============================] - 371s 198ms/step - loss: 0.0681 - accuracy: 0.9786 - val_loss: 0.0763 - val_accuracy: 0.9784\n",
            "Epoch 3/5\n",
            "1875/1875 [==============================] - 395s 211ms/step - loss: 0.0479 - accuracy: 0.9852 - val_loss: 0.0831 - val_accuracy: 0.9763\n",
            "Epoch 4/5\n",
            "1875/1875 [==============================] - 421s 224ms/step - loss: 0.0377 - accuracy: 0.9878 - val_loss: 0.0890 - val_accuracy: 0.9777\n",
            "Epoch 5/5\n",
            "1875/1875 [==============================] - 423s 226ms/step - loss: 0.0278 - accuracy: 0.9918 - val_loss: 0.1130 - val_accuracy: 0.9771\n"
          ]
        },
        {
          "data": {
            "text/plain": [
              "<keras.callbacks.History at 0x1ae0dbce310>"
            ]
          },
          "execution_count": 15,
          "metadata": {},
          "output_type": "execute_result"
        }
      ],
      "source": [
        "model.fit(x_train, y_train, validation_data=(x_test, y_test), epochs=5, batch_size=32)"
      ]
    },
    {
      "cell_type": "markdown",
      "metadata": {
        "id": "9uKtZLgJI3lI"
      },
      "source": [
        "Observing the metrics"
      ]
    },
    {
      "cell_type": "code",
      "execution_count": 16,
      "metadata": {
        "colab": {
          "base_uri": "https://localhost:8080/"
        },
        "id": "dn5AnJPvI8tA",
        "outputId": "9ca7814d-07e3-4055-b32e-e02d9cbe2b57"
      },
      "outputs": [
        {
          "name": "stdout",
          "output_type": "stream",
          "text": [
            "Metrics [Test loss, Test Accuracy] : \n",
            "[0.11298686265945435, 0.9771000146865845]\n"
          ]
        }
      ],
      "source": [
        "metrics = model.evaluate(x_test, y_test, verbose=0)\n",
        "print(\"Metrics [Test loss, Test Accuracy] : \")\n",
        "print(metrics)"
      ]
    },
    {
      "cell_type": "markdown",
      "metadata": {
        "id": "Z2l1Bd87I_Zj"
      },
      "source": [
        "Test The Model"
      ]
    },
    {
      "cell_type": "code",
      "execution_count": 17,
      "metadata": {
        "colab": {
          "base_uri": "https://localhost:8080/"
        },
        "id": "sq-V_b7_I_l8",
        "outputId": "9da409a2-cd53-4813-e15f-bceffefd42b4"
      },
      "outputs": [
        {
          "name": "stdout",
          "output_type": "stream",
          "text": [
            "1/1 [==============================] - 0s 316ms/step\n",
            "[[1.4966827e-16 1.0000000e+00 3.6822836e-12 3.0722881e-20 7.5321244e-10\n",
            "  3.4331362e-16 2.8954590e-17 3.8201555e-13 4.1869763e-10 1.9107032e-17]]\n"
          ]
        }
      ],
      "source": [
        "prediction=model.predict(x_test[7000:7001])\n",
        "print(prediction)"
      ]
    },
    {
      "cell_type": "code",
      "execution_count": 18,
      "metadata": {
        "colab": {
          "base_uri": "https://localhost:8080/",
          "height": 563
        },
        "id": "MbjfsCdbJIkk",
        "outputId": "ee10aeed-5958-40b9-e19e-63261eb112fc"
      },
      "outputs": [
        {
          "data": {
            "text/plain": [
              "<matplotlib.image.AxesImage at 0x1ae0de3aa30>"
            ]
          },
          "execution_count": 18,
          "metadata": {},
          "output_type": "execute_result"
        },
        {
          "data": {
            "image/png": "[encoded data removed]",
            "text/plain": [
              "<Figure size 640x480 with 1 Axes>"
            ]
          },
          "metadata": {},
          "output_type": "display_data"
        }
      ],
      "source": [
        "plt.imshow(x_test[7000])"
      ]
    },
    {
      "cell_type": "code",
      "execution_count": 19,
      "metadata": {
        "colab": {
          "base_uri": "https://localhost:8080/"
        },
        "id": "RLS4H4lzJwEr",
        "outputId": "ab0d3cbe-82d7-4615-db70-f3fca880e546"
      },
      "outputs": [
        {
          "name": "stdout",
          "output_type": "stream",
          "text": [
            "[1]\n"
          ]
        }
      ],
      "source": [
        "import numpy as np\n",
        "print(np.argmax(prediction, axis=1)) "
      ]
    },
    {
      "cell_type": "code",
      "execution_count": 20,
      "metadata": {
        "colab": {
          "base_uri": "https://localhost:8080/"
        },
        "id": "iMMenF9sJwOS",
        "outputId": "965123a1-cd3e-49ad-8e6a-83eb97339078"
      },
      "outputs": [
        {
          "data": {
            "text/plain": [
              "1"
            ]
          },
          "execution_count": 20,
          "metadata": {},
          "output_type": "execute_result"
        }
      ],
      "source": [
        "np.argmax(y_test[7000:7001]) "
      ]
    },
    {
      "cell_type": "markdown",
      "metadata": {
        "id": "HZ4SScrWJyz7"
      },
      "source": [
        "Save The model"
      ]
    },
    {
      "cell_type": "code",
      "execution_count": 21,
      "metadata": {
        "id": "X8dWi_TSJy9C"
      },
      "outputs": [],
      "source": [
        "model.save('models/mnistData.h5')"
      ]
    },
    {
      "cell_type": "code",
      "execution_count": 22,
      "metadata": {
        "colab": {
          "base_uri": "https://localhost:8080/"
        },
        "id": "zkvnBQpOJ1tL",
        "outputId": "7edd5d13-edcf-445f-c516-84179ceb82b5"
      },
      "outputs": [
        {
          "name": "stdout",
          "output_type": "stream",
          "text": [
            "c:\\Users\\hari9\\Desktop\\college\\Handwritten Recognition\\models\n"
          ]
        }
      ],
      "source": [
        "cd models"
      ]
    },
    {
      "cell_type": "code",
      "execution_count": 23,
      "metadata": {
        "colab": {
          "base_uri": "https://localhost:8080/"
        },
        "id": "Y9L3mWd_J58Z",
        "outputId": "aec3e634-6445-499d-934e-6f1e2eda19dd"
      },
      "outputs": [
        {
          "name": "stderr",
          "output_type": "stream",
          "text": [
            "a mnistData.h5\n"
          ]
        }
      ],
      "source": [
        "!tar -zcvf handwritten-digit-recognition-model_new.tgz mnistData.h5"
      ]
    },
    {
      "cell_type": "code",
      "execution_count": null,
      "metadata": {
        "colab": {
          "base_uri": "https://localhost:8080/",
          "height": 1000
        },
        "id": "TfzbNw0SJ6Ev",
        "outputId": "ff5afbe2-7e92-4456-beaa-5e9d803647c9"
      },
      "outputs": [],
      "source": [
        "# pip install watson-machine-learning-client --upgrade      \n",
        "#used to install ibm watsonn studio"
      ]
    },
    {
      "cell_type": "markdown",
      "metadata": {
        "id": "Hk-brZcuKDYd"
      },
      "source": [
        "Cloud deploy"
      ]
    },
    {
      "cell_type": "code",
      "execution_count": 24,
      "metadata": {
        "colab": {
          "base_uri": "https://localhost:8080/",
          "height": 373
        },
        "id": "eg5NbvfoKDkA",
        "outputId": "2aaad036-94e8-4b89-ea32-ac84690b2001"
      },
      "outputs": [
        {
          "data": {
            "text/plain": [
              "<ibm_watson_machine_learning.client.APIClient at 0x1ae0f1cbf40>"
            ]
          },
          "execution_count": 24,
          "metadata": {},
          "output_type": "execute_result"
        }
      ],
      "source": [
        "from ibm_watson_machine_learning import APIClient\n",
        "credentials ={\n",
        "    \"url\":\"https://eu-gb.ml.cloud.ibm.com\",\n",
        "    \"apikey\":\"5rzQhIHIUmvhPg67cgRRjqIHHie7GoUBaoUwwPmAietm\"\n",
        "}\n",
        "client = APIClient(credentials)\n",
        "client"
      ]
    },
    {
      "cell_type": "code",
      "execution_count": 25,
      "metadata": {
        "colab": {
          "base_uri": "https://localhost:8080/",
          "height": 165
        },
        "id": "TQ-_9WV1KDnG",
        "outputId": "8bac5c3d-688d-4832-e681-6639834e18ae"
      },
      "outputs": [
        {
          "data": {
            "text/plain": [
              "{'resources': [{'entity': {'description': '',\n",
              "    'name': 'Project',\n",
              "    'scope': {'bss_account_id': '0d54843d88a845a889b24895b898ec88'},\n",
              "    'stage': {'production': False},\n",
              "    'status': {'state': 'active'},\n",
              "    'storage': {'properties': {'bucket_name': 'fb87968d-ebd7-4300-baf1-0eb5705687cd',\n",
              "      'bucket_region': 'eu-gb-standard',\n",
              "      'credentials': {'admin': {'access_key_id': '0241e1e1a52c4a1cbcd7373584ef6735',\n",
              "        'api_key': 'vDJagj39pjgcYrtGJiuQhoS4FFW7NTixBiOvFbUtq_7d',\n",
              "        'secret_access_key': '0944a8b6b327d8a41c321b6ca8ed82bdcf9263a9b9437884',\n",
              "        'service_id': 'ServiceId-041e45ec-8554-4e98-b989-ca9cedbb45ec'},\n",
              "       'editor': {'access_key_id': 'e0309ad17d424c8794f920cfb3d53d29',\n",
              "        'api_key': 'aWzIu03d_2JsmDPcIoRHeHCfwAmGrwjx9uIN0WjyJJMB',\n",
              "        'resource_key_crn': 'crn:v1:bluemix:public:cloud-object-storage:global:a/0d54843d88a845a889b24895b898ec88:d4785e41-84ad-4577-a9de-ff0bca916b7a::',\n",
              "        'secret_access_key': 'fd06018c4a7ee474d8c98dd7a2602f87a65b78cea96c29e5',\n",
              "        'service_id': 'ServiceId-6878a524-0f50-4771-809a-091face5bf4a'},\n",
              "       'viewer': {'access_key_id': '7865a3d4a0ce4db397d2e9d60c942022',\n",
              "        'api_key': 'T-YFgG6fgcUuQdoURlodnjHM-9M0uf_HZbGZpGY4N0VO',\n",
              "        'resource_key_crn': 'crn:v1:bluemix:public:cloud-object-storage:global:a/0d54843d88a845a889b24895b898ec88:d4785e41-84ad-4577-a9de-ff0bca916b7a::',\n",
              "        'secret_access_key': 'ae3915754be979a26ec437ba5f707dbb9f06e7b2005250c1',\n",
              "        'service_id': 'ServiceId-97ffdeb7-4884-402c-a121-a13ed32974ac'}},\n",
              "      'endpoint_url': 'https://s3.eu-gb.cloud-object-storage.appdomain.cloud',\n",
              "      'guid': 'd4785e41-84ad-4577-a9de-ff0bca916b7a',\n",
              "      'resource_crn': 'crn:v1:bluemix:public:cloud-object-storage:global:a/0d54843d88a845a889b24895b898ec88:d4785e41-84ad-4577-a9de-ff0bca916b7a::'},\n",
              "     'type': 'bmcos_object_storage'}},\n",
              "   'metadata': {'created_at': '2022-11-15T07:14:20.254Z',\n",
              "    'creator_id': 'IBMid-664004035P',\n",
              "    'id': 'c8cc722f-e519-43f7-b5ee-bb774805efca',\n",
              "    'updated_at': '2022-11-15T07:14:35.174Z',\n",
              "    'url': '/v2/spaces/c8cc722f-e519-43f7-b5ee-bb774805efca'}}]}"
            ]
          },
          "execution_count": 25,
          "metadata": {},
          "output_type": "execute_result"
        }
      ],
      "source": [
        "client.spaces.get_details()"
      ]
    },
    {
      "cell_type": "code",
      "execution_count": 26,
      "metadata": {
        "id": "qLN-CU3DKOYq"
      },
      "outputs": [],
      "source": [
        "def guid_from_space_name(client,deploy):\n",
        "  space = client.spaces.get_details()\n",
        "  return (next(item for item in space['resources'] if item['entity']['name']==deploy)['metadata']['id'])"
      ]
    },
    {
      "cell_type": "code",
      "execution_count": 27,
      "metadata": {
        "colab": {
          "base_uri": "https://localhost:8080/",
          "height": 130
        },
        "id": "I_ZsM1zjKOcS",
        "outputId": "a11cee39-54fb-4566-bb47-404d979b911a"
      },
      "outputs": [
        {
          "name": "stdout",
          "output_type": "stream",
          "text": [
            "Space UID = c8cc722f-e519-43f7-b5ee-bb774805efca\n"
          ]
        }
      ],
      "source": [
        "space_uid = guid_from_space_name(client,'Project')\n",
        "print(\"Space UID = \" + space_uid)"
      ]
    },
    {
      "cell_type": "code",
      "execution_count": 28,
      "metadata": {
        "colab": {
          "base_uri": "https://localhost:8080/",
          "height": 165
        },
        "id": "QN8PdySvKOgP",
        "outputId": "d449e9b1-2931-4a9b-c115-185748a753be"
      },
      "outputs": [
        {
          "data": {
            "text/plain": [
              "'SUCCESS'"
            ]
          },
          "execution_count": 28,
          "metadata": {},
          "output_type": "execute_result"
        }
      ],
      "source": [
        "client.set.default_space(space_uid)"
      ]
    },
    {
      "cell_type": "code",
      "execution_count": 29,
      "metadata": {
        "colab": {
          "base_uri": "https://localhost:8080/",
          "height": 165
        },
        "id": "uBxGaix5KOjs",
        "outputId": "dfc3a3c2-fd9d-4e4d-e631-6c12771f2842"
      },
      "outputs": [
        {
          "name": "stdout",
          "output_type": "stream",
          "text": [
            "-------------------------------  ------------------------------------  ----\n",
            "NAME                             ASSET_ID                              TYPE\n",
            "default_py3.6                    0062b8c9-8b7d-44a0-a9b9-46c416adcbd9  base\n",
            "kernel-spark3.2-scala2.12        020d69ce-7ac1-5e68-ac1a-31189867356a  base\n",
            "pytorch-onnx_1.3-py3.7-edt       069ea134-3346-5748-b513-49120e15d288  base\n",
            "scikit-learn_0.20-py3.6          09c5a1d0-9c1e-4473-a344-eb7b665ff687  base\n",
            "spark-mllib_3.0-scala_2.12       09f4cff0-90a7-5899-b9ed-1ef348aebdee  base\n",
            "pytorch-onnx_rt22.1-py3.9        0b848dd4-e681-5599-be41-b5f6fccc6471  base\n",
            "ai-function_0.1-py3.6            0cdb0f1e-5376-4f4d-92dd-da3b69aa9bda  base\n",
            "shiny-r3.6                       0e6e79df-875e-4f24-8ae9-62dcc2148306  base\n",
            "tensorflow_2.4-py3.7-horovod     1092590a-307d-563d-9b62-4eb7d64b3f22  base\n",
            "pytorch_1.1-py3.6                10ac12d6-6b30-4ccd-8392-3e922c096a92  base\n",
            "tensorflow_1.15-py3.6-ddl        111e41b3-de2d-5422-a4d6-bf776828c4b7  base\n",
            "autoai-kb_rt22.2-py3.10          125b6d9a-5b1f-5e8d-972a-b251688ccf40  base\n",
            "runtime-22.1-py3.9               12b83a17-24d8-5082-900f-0ab31fbfd3cb  base\n",
            "scikit-learn_0.22-py3.6          154010fa-5b3b-4ac1-82af-4d5ee5abbc85  base\n",
            "default_r3.6                     1b70aec3-ab34-4b87-8aa0-a4a3c8296a36  base\n",
            "pytorch-onnx_1.3-py3.6           1bc6029a-cc97-56da-b8e0-39c3880dbbe7  base\n",
            "kernel-spark3.3-r3.6             1c9e5454-f216-59dd-a20e-474a5cdf5988  base\n",
            "pytorch-onnx_rt22.1-py3.9-edt    1d362186-7ad5-5b59-8b6c-9d0880bde37f  base\n",
            "tensorflow_2.1-py3.6             1eb25b84-d6ed-5dde-b6a5-3fbdf1665666  base\n",
            "spark-mllib_3.2                  20047f72-0a98-58c7-9ff5-a77b012eb8f5  base\n",
            "tensorflow_2.4-py3.8-horovod     217c16f6-178f-56bf-824a-b19f20564c49  base\n",
            "runtime-22.1-py3.9-cuda          26215f05-08c3-5a41-a1b0-da66306ce658  base\n",
            "do_py3.8                         295addb5-9ef9-547e-9bf4-92ae3563e720  base\n",
            "autoai-ts_3.8-py3.8              2aa0c932-798f-5ae9-abd6-15e0c2402fb5  base\n",
            "tensorflow_1.15-py3.6            2b73a275-7cbf-420b-a912-eae7f436e0bc  base\n",
            "kernel-spark3.3-py3.9            2b7961e2-e3b1-5a8c-a491-482c8368839a  base\n",
            "pytorch_1.2-py3.6                2c8ef57d-2687-4b7d-acce-01f94976dac1  base\n",
            "spark-mllib_2.3                  2e51f700-bca0-4b0d-88dc-5c6791338875  base\n",
            "pytorch-onnx_1.1-py3.6-edt       32983cea-3f32-4400-8965-dde874a8d67e  base\n",
            "spark-mllib_3.0-py37             36507ebe-8770-55ba-ab2a-eafe787600e9  base\n",
            "spark-mllib_2.4                  390d21f8-e58b-4fac-9c55-d7ceda621326  base\n",
            "autoai-ts_rt22.2-py3.10          396b2e83-0953-5b86-9a55-7ce1628a406f  base\n",
            "xgboost_0.82-py3.6               39e31acd-5f30-41dc-ae44-60233c80306e  base\n",
            "pytorch-onnx_1.2-py3.6-edt       40589d0e-7019-4e28-8daa-fb03b6f4fe12  base\n",
            "pytorch-onnx_rt22.2-py3.10       40e73f55-783a-5535-b3fa-0c8b94291431  base\n",
            "default_r36py38                  41c247d3-45f8-5a71-b065-8580229facf0  base\n",
            "autoai-ts_rt22.1-py3.9           4269d26e-07ba-5d40-8f66-2d495b0c71f7  base\n",
            "autoai-obm_3.0                   42b92e18-d9ab-567f-988a-4240ba1ed5f7  base\n",
            "pmml-3.0_4.3                     493bcb95-16f1-5bc5-bee8-81b8af80e9c7  base\n",
            "spark-mllib_2.4-r_3.6            49403dff-92e9-4c87-a3d7-a42d0021c095  base\n",
            "xgboost_0.90-py3.6               4ff8d6c2-1343-4c18-85e1-689c965304d3  base\n",
            "pytorch-onnx_1.1-py3.6           50f95b2a-bc16-43bb-bc94-b0bed208c60b  base\n",
            "autoai-ts_3.9-py3.8              52c57136-80fa-572e-8728-a5e7cbb42cde  base\n",
            "spark-mllib_2.4-scala_2.11       55a70f99-7320-4be5-9fb9-9edb5a443af5  base\n",
            "spark-mllib_3.0                  5c1b0ca2-4977-5c2e-9439-ffd44ea8ffe9  base\n",
            "autoai-obm_2.0                   5c2e37fa-80b8-5e77-840f-d912469614ee  base\n",
            "spss-modeler_18.1                5c3cad7e-507f-4b2a-a9a3-ab53a21dee8b  base\n",
            "cuda-py3.8                       5d3232bf-c86b-5df4-a2cd-7bb870a1cd4e  base\n",
            "autoai-kb_3.1-py3.7              632d4b22-10aa-5180-88f0-f52dfb6444d7  base\n",
            "pytorch-onnx_1.7-py3.8           634d3cdc-b562-5bf9-a2d4-ea90a478456b  base\n",
            "spark-mllib_2.3-r_3.6            6586b9e3-ccd6-4f92-900f-0f8cb2bd6f0c  base\n",
            "tensorflow_2.4-py3.7             65e171d7-72d1-55d9-8ebb-f813d620c9bb  base\n",
            "spss-modeler_18.2                687eddc9-028a-4117-b9dd-e57b36f1efa5  base\n",
            "pytorch-onnx_1.2-py3.6           692a6a4d-2c4d-45ff-a1ed-b167ee55469a  base\n",
            "spark-mllib_2.3-scala_2.11       7963efe5-bbec-417e-92cf-0574e21b4e8d  base\n",
            "spark-mllib_2.4-py37             7abc992b-b685-532b-a122-a396a3cdbaab  base\n",
            "caffe_1.0-py3.6                  7bb3dbe2-da6e-4145-918d-b6d84aa93b6b  base\n",
            "pytorch-onnx_1.7-py3.7           812c6631-42b7-5613-982b-02098e6c909c  base\n",
            "cuda-py3.6                       82c79ece-4d12-40e6-8787-a7b9e0f62770  base\n",
            "tensorflow_1.15-py3.6-horovod    8964680e-d5e4-5bb8-919b-8342c6c0dfd8  base\n",
            "hybrid_0.1                       8c1a58c6-62b5-4dc4-987a-df751c2756b6  base\n",
            "pytorch-onnx_1.3-py3.7           8d5d8a87-a912-54cf-81ec-3914adaa988d  base\n",
            "caffe-ibm_1.0-py3.6              8d863266-7927-4d1e-97d7-56a7f4c0a19b  base\n",
            "spss-modeler_17.1                902d0051-84bd-4af6-ab6b-8f6aa6fdeabb  base\n",
            "do_12.10                         9100fd72-8159-4eb9-8a0b-a87e12eefa36  base\n",
            "do_py3.7                         9447fa8b-2051-4d24-9eef-5acb0e3c59f8  base\n",
            "spark-mllib_3.0-r_3.6            94bb6052-c837-589d-83f1-f4142f219e32  base\n",
            "cuda-py3.7-opence                94e9652b-7f2d-59d5-ba5a-23a414ea488f  base\n",
            "nlp-py3.8                        96e60351-99d4-5a1c-9cc0-473ac1b5a864  base\n",
            "cuda-py3.7                       9a44990c-1aa1-4c7d-baf8-c4099011741c  base\n",
            "hybrid_0.2                       9b3f9040-9cee-4ead-8d7a-780600f542f7  base\n",
            "spark-mllib_3.0-py38             9f7a8fc1-4d3c-5e65-ab90-41fa8de2d418  base\n",
            "autoai-kb_3.3-py3.7              a545cca3-02df-5c61-9e88-998b09dc79af  base\n",
            "spark-mllib_3.0-py39             a6082a27-5acc-5163-b02c-6b96916eb5e0  base\n",
            "runtime-22.1-py3.9-do            a7e7dbf1-1d03-5544-994d-e5ec845ce99a  base\n",
            "default_py3.8                    ab9e1b80-f2ce-592c-a7d2-4f2344f77194  base\n",
            "tensorflow_rt22.1-py3.9          acd9c798-6974-5d2f-a657-ce06e986df4d  base\n",
            "kernel-spark3.2-py3.9            ad7033ee-794e-58cf-812e-a95f4b64b207  base\n",
            "autoai-obm_2.0 with Spark 3.0    af10f35f-69fa-5d66-9bf5-acb58434263a  base\n",
            "default_py3.7_opence             c2057dd4-f42c-5f77-a02f-72bdbd3282c9  base\n",
            "tensorflow_2.1-py3.7             c4032338-2a40-500a-beef-b01ab2667e27  base\n",
            "do_py3.7_opence                  cc8f8976-b74a-551a-bb66-6377f8d865b4  base\n",
            "spark-mllib_3.3                  d11f2434-4fc7-58b7-8a62-755da64fdaf8  base\n",
            "autoai-kb_3.0-py3.6              d139f196-e04b-5d8b-9140-9a10ca1fa91a  base\n",
            "spark-mllib_3.0-py36             d82546d5-dd78-5fbb-9131-2ec309bc56ed  base\n",
            "autoai-kb_3.4-py3.8              da9b39c3-758c-5a4f-9cfd-457dd4d8c395  base\n",
            "kernel-spark3.2-r3.6             db2fe4d6-d641-5d05-9972-73c654c60e0a  base\n",
            "autoai-kb_rt22.1-py3.9           db6afe93-665f-5910-b117-d879897404d9  base\n",
            "tensorflow_rt22.1-py3.9-horovod  dda170cc-ca67-5da7-9b7a-cf84c6987fae  base\n",
            "autoai-ts_1.0-py3.7              deef04f0-0c42-5147-9711-89f9904299db  base\n",
            "tensorflow_2.1-py3.7-horovod     e384fce5-fdd1-53f8-bc71-11326c9c635f  base\n",
            "default_py3.7                    e4429883-c883-42b6-87a8-f419d64088cd  base\n",
            "do_22.1                          e51999ba-6452-5f1f-8287-17228b88b652  base\n",
            "autoai-obm_3.2                   eae86aab-da30-5229-a6a6-1d0d4e368983  base\n",
            "tensorflow_rt22.2-py3.10         f65bd165-f057-55de-b5cb-f97cf2c0f393  base\n",
            "do_20.1                          f686cdd9-7904-5f9d-a732-01b0d6b10dc5  base\n",
            "pytorch-onnx_rt22.2-py3.10-edt   f8a05d07-e7cd-57bb-a10b-23f1d4b837ac  base\n",
            "scikit-learn_0.19-py3.6          f963fa9d-4bb7-5652-9c5d-8d9289ef6ad9  base\n",
            "tensorflow_2.4-py3.8             fe185c44-9a99-5425-986b-59bd1d2eda46  base\n",
            "-------------------------------  ------------------------------------  ----\n"
          ]
        }
      ],
      "source": [
        "client.software_specifications.list(limit=100)"
      ]
    },
    {
      "cell_type": "code",
      "execution_count": 30,
      "metadata": {
        "colab": {
          "base_uri": "https://localhost:8080/",
          "height": 182
        },
        "id": "_bdrv_NRKX1w",
        "outputId": "a353bae9-f773-44c5-cc29-06bf56c438b9"
      },
      "outputs": [
        {
          "data": {
            "text/plain": [
              "'acd9c798-6974-5d2f-a657-ce06e986df4d'"
            ]
          },
          "execution_count": 30,
          "metadata": {},
          "output_type": "execute_result"
        }
      ],
      "source": [
        "software_space_uid = client.software_specifications.get_uid_by_name('tensorflow_rt22.1-py3.9')\n",
        "software_space_uid"
      ]
    },
    {
      "cell_type": "code",
      "execution_count": 31,
      "metadata": {
        "colab": {
          "base_uri": "https://localhost:8080/",
          "height": 235
        },
        "id": "YqBerPP3KX45",
        "outputId": "52a50a11-464d-4d1e-d61c-44ac789100d7"
      },
      "outputs": [],
      "source": [
        "model_details = client.repository.store_model(model='handwritten-digit-recognition-model_new.tgz',meta_props={\n",
        "    client.repository.ModelMetaNames.NAME:\"Digit recognition model\",\n",
        "    client.repository.ModelMetaNames.TYPE:\"tensorflow_2.7\",\n",
        "    client.repository.ModelMetaNames.SOFTWARE_SPEC_UID:software_space_uid\n",
        "})"
      ]
    },
    {
      "cell_type": "code",
      "execution_count": 32,
      "metadata": {
        "colab": {
          "base_uri": "https://localhost:8080/",
          "height": 165
        },
        "id": "ESkkQ4GEKX8f",
        "outputId": "89801504-0384-4802-f472-d3619061f47f"
      },
      "outputs": [
        {
          "data": {
            "text/plain": [
              "{'entity': {'hybrid_pipeline_software_specs': [],\n",
              "  'software_spec': {'id': 'acd9c798-6974-5d2f-a657-ce06e986df4d',\n",
              "   'name': 'tensorflow_rt22.1-py3.9'},\n",
              "  'type': 'tensorflow_2.7'},\n",
              " 'metadata': {'created_at': '2022-11-15T14:17:42.265Z',\n",
              "  'id': '11aa083c-fce0-458e-a7fa-a0610a321ad9',\n",
              "  'modified_at': '2022-11-15T14:17:57.531Z',\n",
              "  'name': 'Digit recognition model',\n",
              "  'owner': 'IBMid-664004035P',\n",
              "  'resource_key': '5c129612-f0df-41a6-95a7-1ab2c1f4929d',\n",
              "  'space_id': 'c8cc722f-e519-43f7-b5ee-bb774805efca'},\n",
              " 'system': {'warnings': []}}"
            ]
          },
          "execution_count": 32,
          "metadata": {},
          "output_type": "execute_result"
        }
      ],
      "source": [
        "model_details"
      ]
    },
    {
      "cell_type": "code",
      "execution_count": 33,
      "metadata": {
        "colab": {
          "base_uri": "https://localhost:8080/",
          "height": 182
        },
        "id": "cHbUJIRfKe9X",
        "outputId": "b072a5b7-80cc-473c-9110-36ded2761fc6"
      },
      "outputs": [
        {
          "data": {
            "text/plain": [
              "'11aa083c-fce0-458e-a7fa-a0610a321ad9'"
            ]
          },
          "execution_count": 33,
          "metadata": {},
          "output_type": "execute_result"
        }
      ],
      "source": [
        "model_id = client.repository.get_model_id(model_details)\n",
        "model_id"
      ]
    },
    {
      "cell_type": "code",
      "execution_count": 34,
      "metadata": {
        "colab": {
          "base_uri": "https://localhost:8080/",
          "height": 165
        },
        "id": "cJ8NlW6MKfB0",
        "outputId": "28f14f7d-0614-4380-c458-e7c988b0a1a4"
      },
      "outputs": [
        {
          "name": "stdout",
          "output_type": "stream",
          "text": [
            "Successfully saved model content to file: 'DigitRecog_IBM_model.tar.gz'\n"
          ]
        },
        {
          "data": {
            "text/plain": [
              "'c:\\\\Users\\\\hari9\\\\Desktop\\\\college\\\\Handwritten Recognition\\\\models/DigitRecog_IBM_model.tar.gz'"
            ]
          },
          "execution_count": 34,
          "metadata": {},
          "output_type": "execute_result"
        }
      ],
      "source": [
        "client.repository.download(model_id,'DigitRecog_IBM_model.tar.gz')"
      ]
    },
    {
      "cell_type": "code",
      "execution_count": 35,
      "metadata": {
        "colab": {
          "base_uri": "https://localhost:8080/"
        },
        "id": "qpIWp15zKfJC",
        "outputId": "e7dd739e-da71-4126-8e41-222ee184545a"
      },
      "outputs": [
        {
          "name": "stdout",
          "output_type": "stream",
          "text": [
            " Volume in drive C is Windows\n",
            " Volume Serial Number is 7E3D-0D71\n",
            "\n",
            " Directory of c:\\Users\\hari9\\Desktop\\college\\Handwritten Recognition\\models\n",
            "\n",
            "15-11-2022  19:49    <DIR>          .\n",
            "15-11-2022  19:49    <DIR>          ..\n",
            "15-11-2022  19:49         2,326,130 DigitRecog_IBM_model.tar.gz\n",
            "15-11-2022  19:45         2,326,130 handwritten-digit-recognition-model_new.tgz\n",
            "15-11-2022  19:43         2,475,168 mnistData.h5\n",
            "               3 File(s)      7,127,428 bytes\n",
            "               2 Dir(s)  151,075,254,272 bytes free\n"
          ]
        }
      ],
      "source": [
        "ls"
      ]
    },
    {
      "cell_type": "markdown",
      "metadata": {
        "id": "umua1CtTKv4p"
      },
      "source": [
        "TEST MODEL"
      ]
    },
    {
      "cell_type": "code",
      "execution_count": 36,
      "metadata": {
        "id": "PextSBeJKw2B"
      },
      "outputs": [],
      "source": [
        "from keras.models import load_model\n",
        "from keras.preprocessing import image\n",
        "from PIL import Image\n",
        "import numpy as np"
      ]
    },
    {
      "cell_type": "code",
      "execution_count": 37,
      "metadata": {
        "id": "8tlpuJ3aKw5Z"
      },
      "outputs": [],
      "source": [
        "model = load_model(\"mnistData.h5\")"
      ]
    },
    {
      "cell_type": "code",
      "execution_count": 41,
      "metadata": {
        "colab": {
          "base_uri": "https://localhost:8080/",
          "height": 519
        },
        "id": "qDpQZoczKw9Q",
        "outputId": "1062f872-b14e-430b-d28f-1847e5f10a09"
      },
      "outputs": [],
      "source": [
        "import os, types\n",
        "import pandas as pd\n",
        "from botocore.client import Config\n",
        "import ibm_boto3\n",
        "\n",
        "def __iter__(self): return 0\n",
        "\n",
        "cos_client = ibm_boto3.client(service_name='s3',\n",
        "    ibm_api_key_id='vDJagj39pjgcYrtGJiuQhoS4FFW7NTixBiOvFbUtq_7d',\n",
        "    ibm_auth_endpoint=\"https://iam.cloud.ibm.com/oidc/token\",\n",
        "    config=Config(signature_version='oauth'),\n",
        "    endpoint_url='https://s3.eu-gb.cloud-object-storage.appdomain.cloud')\n",
        "\n",
        "bucket = 'handwritten-digit-recognition88'\n",
        "object_key = '4.png'\n",
        "\n",
        "streaming_body_1 = cos_client.get_object(Bucket=bucket, Key=object_key)['Body']\n",
        "\n",
        "#The IBM Oject storage is where the Pictures has been uploaded to test the data via IBM Cloud"
      ]
    },
    {
      "cell_type": "code",
      "execution_count": 42,
      "metadata": {
        "colab": {
          "base_uri": "https://localhost:8080/",
          "height": 182
        },
        "id": "aHzMv9oJKxAX",
        "outputId": "a78f894b-525a-40e2-92b0-0f923e8bff0e"
      },
      "outputs": [],
      "source": [
        "img = Image.open(streaming_body_1).convert(\"L\") # convert image to monochrome\n",
        "img = img.resize( (28,28) ) # resizing of input image"
      ]
    },
    {
      "cell_type": "code",
      "execution_count": 43,
      "metadata": {
        "id": "PIJnY6zsKxJd"
      },
      "outputs": [
        {
          "data": {
            "image/png": "[encoded data removed]",
            "text/plain": [
              "<PIL.Image.Image image mode=L size=28x28>"
            ]
          },
          "execution_count": 43,
          "metadata": {},
          "output_type": "execute_result"
        }
      ],
      "source": [
        "img"
      ]
    },
    {
      "cell_type": "code",
      "execution_count": 44,
      "metadata": {
        "colab": {
          "base_uri": "https://localhost:8080/",
          "height": 182
        },
        "id": "rQmVWGpCLB-R",
        "outputId": "e11cad4a-d23d-4722-981e-2b30a7db97c6"
      },
      "outputs": [],
      "source": [
        "im2arr = np.array(img) #converting to image\n",
        "im2arr = im2arr.reshape(1, 28, 28, 1) #reshaping according to our requirement"
      ]
    },
    {
      "cell_type": "code",
      "execution_count": 45,
      "metadata": {
        "colab": {
          "base_uri": "https://localhost:8080/",
          "height": 182
        },
        "id": "7O-rnHZXLCDg",
        "outputId": "2d0af15d-1a5e-44c5-c1b8-fdb6780465ee"
      },
      "outputs": [
        {
          "name": "stdout",
          "output_type": "stream",
          "text": [
            "1/1 [==============================] - 0s 410ms/step\n",
            "[[1.0409454e-10 2.0360837e-13 2.3984970e-10 7.5701868e-11 1.0000000e+00\n",
            "  1.7121428e-09 2.9998042e-11 2.2762569e-08 6.0619733e-13 3.0075377e-08]]\n"
          ]
        }
      ],
      "source": [
        "pred = model.predict(im2arr)\n",
        "print(pred)"
      ]
    },
    {
      "cell_type": "code",
      "execution_count": 46,
      "metadata": {
        "colab": {
          "base_uri": "https://localhost:8080/",
          "height": 165
        },
        "id": "1iC69HfELCHg",
        "outputId": "58c9da66-5938-491f-fedd-43688946ad69"
      },
      "outputs": [
        {
          "name": "stdout",
          "output_type": "stream",
          "text": [
            "[4]\n"
          ]
        }
      ],
      "source": [
        "print(np.argmax(pred, axis=1)) #printing our Labels"
      ]
    }
  ],
  "metadata": {
    "colab": {
      "collapsed_sections": [],
      "provenance": [],
      "toc_visible": true
    },
    "kernelspec": {
      "display_name": "Python 3.9.13 ('base')",
      "language": "python",
      "name": "python3"
    },
    "language_info": {
      "codemirror_mode": {
        "name": "ipython",
        "version": 3
      },
      "file_extension": ".py",
      "mimetype": "text/x-python",
      "name": "python",
      "nbconvert_exporter": "python",
      "pygments_lexer": "ipython3",
      "version": "3.9.15"
    },
    "vscode": {
      "interpreter": {
        "hash": "d34420117ef5f279aa40b6dcd94e7103927680c5c080b7456d361e75ada1e2cd"
      }
    }
  },
  "nbformat": 4,
  "nbformat_minor": 0
}
